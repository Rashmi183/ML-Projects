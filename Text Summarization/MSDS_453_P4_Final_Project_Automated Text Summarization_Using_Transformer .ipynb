{
 "cells": [
  {
   "cell_type": "markdown",
   "id": "53be1292",
   "metadata": {},
   "source": [
    "### MSDS 453 Final Project: Automated Text Summarization Using Transformer Model\n",
    "#### Author: Rashmi Patel\n"
   ]
  },
  {
   "cell_type": "markdown",
   "id": "758b4789-dace-417a-b31d-d6078e634daa",
   "metadata": {},
   "source": [
    "#### Introduction\n",
    "A Transformer model for text summarization follows the sequence-to-sequence (seq2seq) architecture:\n",
    "\n",
    "Encoder: Processes the input text (e.g., a document).\n",
    "Decoder: Generates the summarized text.\n",
    "The Transformer uses:\n",
    "\n",
    "Self-attention: To understand relationships within the input sequence.\n",
    "Cross-attention: In the decoder, to align the generated sequence with the encoded representation.\n",
    "Multi-head Attention: Captures dependencies across tokens.\n",
    "Feedforward Neural Networks: Processes features extracted by attention mechanisms.\n",
    "Positional Encoding: Adds positional information to the tokens since Transformers lack sequence information inherently.\n",
    "\n",
    "positional_encoding:\n",
    "Adds position information to token embeddings to maintain sequence order.\n",
    "Uses sine and cosine functions for alternating dimensions.\n",
    "\n",
    "create_padding_mask:\n",
    "Masks out padding tokens (e.g., 0) in the input sequence.\n",
    "Prevents the model from attending to meaningless positions.\n",
    "\n",
    "create_look_ahead_mask:\n",
    "Prevents the decoder from attending to future tokens.\n",
    "Ensures causal sequence generation by masking tokens beyond the current position.\n",
    "\n",
    "scaled_dot_product_attention:\n",
    "Computes attention scores and outputs based on query (q), key (k), and value (v) inputs.\n",
    "Optionally applies masks (e.g., padding mask or look-ahead mask).\n",
    "Normalizes attention scores with softmax for weighted value computation.\n",
    "\n",
    "get_angles:\n",
    "Computes angles for generating positional encodings using sine and cosine functions."
   ]
  },
  {
   "cell_type": "markdown",
   "id": "d9966623",
   "metadata": {},
   "source": [
    "#### Setting up the environment and loading libraries"
   ]
  },
  {
   "cell_type": "code",
   "execution_count": 165,
   "id": "5a8c1e20",
   "metadata": {},
   "outputs": [],
   "source": [
    "# Importing packages \n",
    "import numpy as np\n",
    "import matplotlib.pyplot as plt\n",
    "import seaborn as sns\n",
    "import pandas as pd\n",
    "from collections import defaultdict\n",
    "import string\n",
    "import tensorflow as tf\n",
    "import re\n",
    "import os\n",
    "import time\n",
    "from tensorflow import keras\n",
    "from tensorflow.keras.layers import Dense, Input\n",
    "from tensorflow.keras.optimizers import Adam\n",
    "from tensorflow.keras.models import Model\n",
    "from tensorflow.keras.callbacks import ModelCheckpoint\n",
    "from sklearn.preprocessing import OneHotEncoder\n",
    "from sklearn.model_selection import train_test_split\n"
   ]
  },
  {
   "cell_type": "code",
   "execution_count": 9,
   "id": "f0641254",
   "metadata": {},
   "outputs": [],
   "source": [
    "ENCODER_LEN = 100\n",
    "DECODER_LEN = 20\n",
    "BATCH_SIZE = 64\n",
    "BUFFER_SIZE = BATCH_SIZE*8"
   ]
  },
  {
   "attachments": {},
   "cell_type": "markdown",
   "id": "d5c5efe4",
   "metadata": {},
   "source": [
    "## About Dataset:\n",
    "<p>Meeting bank: It consists of 1,366 diverse meeting transcripts from six major U.S. cities.\n",
    "Link: https://meetingbank.github.io/dataset/ </p>\n",
    "\n",
    "<p>The Meeting Bank dataset serves as the primary source for this research, offering a varied set of structured and unstructured data. This study leverages the power of NLP and latest summarization techniques using transformers to apply the model on various transcripts to get condensed, meaningful summaries at the end. </p>\n"
   ]
  },
  {
   "cell_type": "code",
   "execution_count": 14,
   "id": "3f25d6ec",
   "metadata": {},
   "outputs": [
    {
     "data": {
      "text/html": [
       "<div>\n",
       "<style scoped>\n",
       "    .dataframe tbody tr th:only-of-type {\n",
       "        vertical-align: middle;\n",
       "    }\n",
       "\n",
       "    .dataframe tbody tr th {\n",
       "        vertical-align: top;\n",
       "    }\n",
       "\n",
       "    .dataframe thead th {\n",
       "        text-align: right;\n",
       "    }\n",
       "</style>\n",
       "<table border=\"1\" class=\"dataframe\">\n",
       "  <thead>\n",
       "    <tr style=\"text-align: right;\">\n",
       "      <th></th>\n",
       "      <th>source</th>\n",
       "      <th>reference</th>\n",
       "    </tr>\n",
       "  </thead>\n",
       "  <tbody>\n",
       "    <tr>\n",
       "      <th>0</th>\n",
       "      <td>Speaker 4: Thank you. And can we do the functi...</td>\n",
       "      <td>Recommendation to increase appropriations in t...</td>\n",
       "    </tr>\n",
       "    <tr>\n",
       "      <th>1</th>\n",
       "      <td>Speaker 4: We're going to hear all of the pres...</td>\n",
       "      <td>Recommendation to conduct a Budget Hearing to ...</td>\n",
       "    </tr>\n",
       "    <tr>\n",
       "      <th>2</th>\n",
       "      <td>Speaker 4: Thank you very much. We will. We're...</td>\n",
       "      <td>Recommendation to declare ordinance amending t...</td>\n",
       "    </tr>\n",
       "    <tr>\n",
       "      <th>3</th>\n",
       "      <td>Speaker 4: Great. Thank you. And, you know, we...</td>\n",
       "      <td>Recommendation to adopt resolution approving t...</td>\n",
       "    </tr>\n",
       "    <tr>\n",
       "      <th>4</th>\n",
       "      <td>Speaker 0: The motion is carried nine zero.\\nS...</td>\n",
       "      <td>Recommendation to refer to the Public Health a...</td>\n",
       "    </tr>\n",
       "  </tbody>\n",
       "</table>\n",
       "</div>"
      ],
      "text/plain": [
       "                                              source  \\\n",
       "0  Speaker 4: Thank you. And can we do the functi...   \n",
       "1  Speaker 4: We're going to hear all of the pres...   \n",
       "2  Speaker 4: Thank you very much. We will. We're...   \n",
       "3  Speaker 4: Great. Thank you. And, you know, we...   \n",
       "4  Speaker 0: The motion is carried nine zero.\\nS...   \n",
       "\n",
       "                                           reference  \n",
       "0  Recommendation to increase appropriations in t...  \n",
       "1  Recommendation to conduct a Budget Hearing to ...  \n",
       "2  Recommendation to declare ordinance amending t...  \n",
       "3  Recommendation to adopt resolution approving t...  \n",
       "4  Recommendation to refer to the Public Health a...  "
      ]
     },
     "execution_count": 14,
     "metadata": {},
     "output_type": "execute_result"
    }
   ],
   "source": [
    "## Reading the Meeting bank data for training set\n",
    "train = pd.read_csv(\"train.csv\")\n",
    "train.drop(['meeting_id', 'type', 'city'], axis=1, inplace=True)\n",
    "train.head()"
   ]
  },
  {
   "cell_type": "code",
   "execution_count": 15,
   "id": "cfbd00d4",
   "metadata": {},
   "outputs": [
    {
     "data": {
      "text/plain": [
       "<bound method DataFrame.info of                                                  source  \\\n",
       "0     Speaker 4: Thank you. And can we do the functi...   \n",
       "1     Speaker 4: We're going to hear all of the pres...   \n",
       "2     Speaker 4: Thank you very much. We will. We're...   \n",
       "3     Speaker 4: Great. Thank you. And, you know, we...   \n",
       "4     Speaker 0: The motion is carried nine zero.\\nS...   \n",
       "...                                                 ...   \n",
       "5164  Speaker 0: Thank you. Docket 0965 will be plac...   \n",
       "5165  Speaker 0: The docket has passed. Madam Clerk,...   \n",
       "5166  Speaker 3: Docket 0481, the Committee on Gover...   \n",
       "5167  Speaker 0: Nay. The ayes have it. The docket h...   \n",
       "5168  Speaker 2: Madam Clerk, would you please read ...   \n",
       "\n",
       "                                              reference  \n",
       "0     Recommendation to increase appropriations in t...  \n",
       "1     Recommendation to conduct a Budget Hearing to ...  \n",
       "2     Recommendation to declare ordinance amending t...  \n",
       "3     Recommendation to adopt resolution approving t...  \n",
       "4     Recommendation to refer to the Public Health a...  \n",
       "...                                                 ...  \n",
       "5164  On the message and order referred on April 14,...  \n",
       "5165  On the communication referred on February 24, ...  \n",
       "5166  On the message and ordinance referred on March...  \n",
       "5167  Ordinance Amending City of Boston Code, Ordina...  \n",
       "5168  On the order, referred on September 15, 2021, ...  \n",
       "\n",
       "[5169 rows x 2 columns]>"
      ]
     },
     "execution_count": 15,
     "metadata": {},
     "output_type": "execute_result"
    }
   ],
   "source": [
    "train.info"
   ]
  },
  {
   "cell_type": "code",
   "execution_count": 16,
   "id": "2e12cc3e",
   "metadata": {},
   "outputs": [
    {
     "data": {
      "text/html": [
       "<div>\n",
       "<style scoped>\n",
       "    .dataframe tbody tr th:only-of-type {\n",
       "        vertical-align: middle;\n",
       "    }\n",
       "\n",
       "    .dataframe tbody tr th {\n",
       "        vertical-align: top;\n",
       "    }\n",
       "\n",
       "    .dataframe thead th {\n",
       "        text-align: right;\n",
       "    }\n",
       "</style>\n",
       "<table border=\"1\" class=\"dataframe\">\n",
       "  <thead>\n",
       "    <tr style=\"text-align: right;\">\n",
       "      <th></th>\n",
       "      <th>source</th>\n",
       "      <th>reference</th>\n",
       "    </tr>\n",
       "  </thead>\n",
       "  <tbody>\n",
       "    <tr>\n",
       "      <th>0</th>\n",
       "      <td>Speaker 4: But why don't I just go through the...</td>\n",
       "      <td>Recommendation to request City Manager to work...</td>\n",
       "    </tr>\n",
       "    <tr>\n",
       "      <th>1</th>\n",
       "      <td>Speaker 1: And this is item 17. I joined 23 In...</td>\n",
       "      <td>Recommendation to receive supporting documenta...</td>\n",
       "    </tr>\n",
       "    <tr>\n",
       "      <th>2</th>\n",
       "      <td>Speaker 6: Councilman Zoro. I council member y...</td>\n",
       "      <td>Recommendation to request City Manager to work...</td>\n",
       "    </tr>\n",
       "    <tr>\n",
       "      <th>3</th>\n",
       "      <td>Speaker 1: We've done item 23. Next item is 20...</td>\n",
       "      <td>Recommendation to award a contract to Courtesy...</td>\n",
       "    </tr>\n",
       "    <tr>\n",
       "      <th>4</th>\n",
       "      <td>Speaker 0: That concludes public comment. So w...</td>\n",
       "      <td>Recommendation to direct City Manager to inves...</td>\n",
       "    </tr>\n",
       "  </tbody>\n",
       "</table>\n",
       "</div>"
      ],
      "text/plain": [
       "                                              source  \\\n",
       "0  Speaker 4: But why don't I just go through the...   \n",
       "1  Speaker 1: And this is item 17. I joined 23 In...   \n",
       "2  Speaker 6: Councilman Zoro. I council member y...   \n",
       "3  Speaker 1: We've done item 23. Next item is 20...   \n",
       "4  Speaker 0: That concludes public comment. So w...   \n",
       "\n",
       "                                           reference  \n",
       "0  Recommendation to request City Manager to work...  \n",
       "1  Recommendation to receive supporting documenta...  \n",
       "2  Recommendation to request City Manager to work...  \n",
       "3  Recommendation to award a contract to Courtesy...  \n",
       "4  Recommendation to direct City Manager to inves...  "
      ]
     },
     "execution_count": 16,
     "metadata": {},
     "output_type": "execute_result"
    }
   ],
   "source": [
    "## Reading the Meeting bank data for test set\n",
    "test = pd.read_csv(\"test.csv\")\n",
    "test.drop(['meeting_id', 'type', 'city'], axis=1, inplace=True)\n",
    "test.head()"
   ]
  },
  {
   "cell_type": "code",
   "execution_count": 17,
   "id": "c7e066a8",
   "metadata": {},
   "outputs": [
    {
     "data": {
      "text/html": [
       "<div>\n",
       "<style scoped>\n",
       "    .dataframe tbody tr th:only-of-type {\n",
       "        vertical-align: middle;\n",
       "    }\n",
       "\n",
       "    .dataframe tbody tr th {\n",
       "        vertical-align: top;\n",
       "    }\n",
       "\n",
       "    .dataframe thead th {\n",
       "        text-align: right;\n",
       "    }\n",
       "</style>\n",
       "<table border=\"1\" class=\"dataframe\">\n",
       "  <thead>\n",
       "    <tr style=\"text-align: right;\">\n",
       "      <th></th>\n",
       "      <th>source</th>\n",
       "      <th>reference</th>\n",
       "    </tr>\n",
       "  </thead>\n",
       "  <tbody>\n",
       "    <tr>\n",
       "      <th>0</th>\n",
       "      <td>Speaker 4: Thank you. And then we have our sec...</td>\n",
       "      <td>Recommendation to authorize City Manager, or d...</td>\n",
       "    </tr>\n",
       "    <tr>\n",
       "      <th>1</th>\n",
       "      <td>Speaker 0: Item 29 is a report from the City A...</td>\n",
       "      <td>Recommendation to adopt resolution of the City...</td>\n",
       "    </tr>\n",
       "    <tr>\n",
       "      <th>2</th>\n",
       "      <td>Speaker 4: Thank you. That concludes that item...</td>\n",
       "      <td>Recommendation to declare ordinance amending t...</td>\n",
       "    </tr>\n",
       "    <tr>\n",
       "      <th>3</th>\n",
       "      <td>Speaker 0: Item 25 is a report from technology...</td>\n",
       "      <td>Recommendation to adopt Specifications No. ITB...</td>\n",
       "    </tr>\n",
       "    <tr>\n",
       "      <th>4</th>\n",
       "      <td>Speaker 1: One Transfer Item 18 Communication ...</td>\n",
       "      <td>Recommendation to increase appropriations in t...</td>\n",
       "    </tr>\n",
       "  </tbody>\n",
       "</table>\n",
       "</div>"
      ],
      "text/plain": [
       "                                              source  \\\n",
       "0  Speaker 4: Thank you. And then we have our sec...   \n",
       "1  Speaker 0: Item 29 is a report from the City A...   \n",
       "2  Speaker 4: Thank you. That concludes that item...   \n",
       "3  Speaker 0: Item 25 is a report from technology...   \n",
       "4  Speaker 1: One Transfer Item 18 Communication ...   \n",
       "\n",
       "                                           reference  \n",
       "0  Recommendation to authorize City Manager, or d...  \n",
       "1  Recommendation to adopt resolution of the City...  \n",
       "2  Recommendation to declare ordinance amending t...  \n",
       "3  Recommendation to adopt Specifications No. ITB...  \n",
       "4  Recommendation to increase appropriations in t...  "
      ]
     },
     "execution_count": 17,
     "metadata": {},
     "output_type": "execute_result"
    }
   ],
   "source": [
    "## Reading the Meeting bank data for validation set\n",
    "val = pd.read_csv(\"val.csv\")\n",
    "val.drop(['meeting_id', 'type', 'city'], axis=1, inplace=True)\n",
    "val.head()"
   ]
  },
  {
   "cell_type": "code",
   "execution_count": 19,
   "id": "e768c07d",
   "metadata": {},
   "outputs": [],
   "source": [
    "### Applying Start of the Sentence and End of Sentence tokens\n",
    "maintext = train['source']\n",
    "ref = train['reference']\n",
    "maintext = maintext.apply(lambda x: '<SOS> ' + x + ' <EOS>')\n",
    "ref = ref.apply(lambda x: '<SOS> ' + x + ' <EOS>')"
   ]
  },
  {
   "cell_type": "code",
   "execution_count": 20,
   "id": "949250e7",
   "metadata": {},
   "outputs": [],
   "source": [
    "### Preprocessing the text \n",
    "def preprocess(text):\n",
    "    text = re.sub(r\"&.[1-9]+;\",\" \",text)\n",
    "    return text\n",
    "maintext = maintext.apply(lambda x: preprocess(x))\n",
    "ref = ref.apply(lambda x: preprocess(x))"
   ]
  },
  {
   "cell_type": "code",
   "execution_count": 21,
   "id": "406f833f",
   "metadata": {},
   "outputs": [],
   "source": [
    "filters = '!\"#$%&()*+,-./:;=?@[\\\\]^_`{|}~\\t\\n'\n",
    "oov_token = '<unk>'\n",
    "maintext_tokenizer = tf.keras.preprocessing.text.Tokenizer(oov_token=oov_token)\n",
    "ref_tokenizer = tf.keras.preprocessing.text.Tokenizer(filters=filters, oov_token=oov_token)\n",
    "maintext_tokenizer.fit_on_texts(maintext)\n",
    "ref_tokenizer.fit_on_texts(ref)\n",
    "inputs = maintext_tokenizer.texts_to_sequences(maintext)\n",
    "targets = ref_tokenizer.texts_to_sequences(ref)"
   ]
  },
  {
   "cell_type": "code",
   "execution_count": 22,
   "id": "b21add28",
   "metadata": {},
   "outputs": [
    {
     "name": "stdout",
     "output_type": "stream",
     "text": [
      "62804 12685\n"
     ]
    }
   ],
   "source": [
    "ENCODER_VOCAB = len(maintext_tokenizer.word_index) + 1\n",
    "DECODER_VOCAB = len(ref_tokenizer.word_index) + 1\n",
    "print(ENCODER_VOCAB, DECODER_VOCAB)"
   ]
  },
  {
   "cell_type": "code",
   "execution_count": 23,
   "id": "447eddad",
   "metadata": {},
   "outputs": [],
   "source": [
    "inputs = tf.keras.preprocessing.sequence.pad_sequences(inputs, maxlen=ENCODER_LEN, padding='post', truncating='post')\n",
    "targets = tf.keras.preprocessing.sequence.pad_sequences(targets, maxlen=DECODER_LEN, padding='post', truncating='post')\n",
    "inputs = tf.cast(inputs, dtype=tf.int64)\n",
    "targets = tf.cast(targets, dtype=tf.int64)"
   ]
  },
  {
   "cell_type": "code",
   "execution_count": 24,
   "id": "f00190f4",
   "metadata": {},
   "outputs": [],
   "source": [
    "dataset = tf.data.Dataset.from_tensor_slices((inputs, targets)).shuffle(BUFFER_SIZE).batch(BATCH_SIZE)"
   ]
  },
  {
   "cell_type": "markdown",
   "id": "e64ddeb3",
   "metadata": {},
   "source": [
    "<p>Two empty lists, maintext_token_counts and ref_token_counts, are created. The script iterates over each row of the train_df DataFrame using the iterrows() method. For each row, it calculates the number of tokens in the \"source\" and \"reference\" columns using the encode() method of the tokenizer object, appending the counts to the respective lists.</p>"
   ]
  },
  {
   "cell_type": "code",
   "execution_count": 164,
   "id": "9aa94bdd",
   "metadata": {},
   "outputs": [
    {
     "name": "stderr",
     "output_type": "stream",
     "text": [
      "Token indices sequence length is longer than the specified maximum sequence length for this model (851 > 512). Running this sequence through the model will result in indexing errors\n"
     ]
    }
   ],
   "source": [
    "maintext_token_counts = [len(tokenizer.encode(row[\"source\"])) for _, row in train.iterrows()]\n",
    "ref_token_counts = [len(tokenizer.encode(row[\"reference\"])) for _, row in train.iterrows()]\n"
   ]
  },
  {
   "cell_type": "code",
   "execution_count": 166,
   "id": "587397af",
   "metadata": {},
   "outputs": [
    {
     "data": {
      "image/png": "[encoded data removed]",
      "text/plain": [
       "<Figure size 1200x600 with 2 Axes>"
      ]
     },
     "metadata": {},
     "output_type": "display_data"
    }
   ],
   "source": [
    "fig, (ax1, ax2) = plt.subplots(1, 2, figsize=(12, 6))\n",
    "sns.histplot(maintext_token_counts, ax=ax1, color='blue', alpha=0.7)\n",
    "ax1.set_title(\"Distribution of Main Text Token Counts\", fontsize=14, fontweight='bold')\n",
    "ax1.set_xlabel(\"Number of Tokens\", fontsize=12)\n",
    "ax1.set_ylabel(\"Frequency\", fontsize=12)\n",
    "ax1.grid(axis='y', alpha=0.5)\n",
    "\n",
    "sns.histplot(ref_token_counts, ax=ax2, color='green', alpha=0.7)\n",
    "ax2.set_title(\"Distribution of Reference Token Counts\", fontsize=14, fontweight='bold')\n",
    "ax2.set_xlabel(\"Number of Tokens\", fontsize=12)\n",
    "ax2.set_ylabel(\"Frequency\", fontsize=12)\n",
    "ax2.grid(axis='y', alpha=0.5)\n",
    "\n",
    "plt.suptitle(\"Token Count Distributions\", fontsize=16, fontweight='bold')\n",
    "plt.tight_layout(rect=[0, 0.03, 1, 0.95])\n",
    "plt.show()"
   ]
  },
  {
   "cell_type": "markdown",
   "id": "cac23a83",
   "metadata": {},
   "source": [
    "<b>The subsequent code blocks encompass the basic implementation of the Transformer model.</b>\n"
   ]
  },
  {
   "cell_type": "code",
   "execution_count": 25,
   "id": "f00a608f",
   "metadata": {},
   "outputs": [],
   "source": [
    "def get_angles(position, i, d_model):\n",
    "    angle_rates = 1 / np.power(10000, (2 * (i // 2)) / np.float32(d_model))\n",
    "    return position * angle_rates\n",
    "\n",
    "def positional_encoding(position, d_model):\n",
    "    angle_rads = get_angles(\n",
    "        np.arange(position)[:, np.newaxis],\n",
    "        np.arange(d_model)[np.newaxis, :],\n",
    "        d_model\n",
    "    )\n",
    "\n",
    "    angle_rads[:, 0::2] = np.sin(angle_rads[:, 0::2])\n",
    "\n",
    "    angle_rads[:, 1::2] = np.cos(angle_rads[:, 1::2])\n",
    "\n",
    "    pos_encoding = angle_rads[np.newaxis, ...]\n",
    "\n",
    "    return tf.cast(pos_encoding, dtype=tf.float32)\n",
    "\n",
    "def create_padding_mask(seq):\n",
    "    seq = tf.cast(tf.math.equal(seq, 0), tf.float32)\n",
    "    return seq[:, tf.newaxis, tf.newaxis, :]\n",
    "\n",
    "def create_look_ahead_mask(size):\n",
    "    mask = 1 - tf.linalg.band_part(tf.ones((size, size)), -1, 0)\n",
    "    return mask\n",
    "\n",
    "def scaled_dot_product_attention(q, k, v, mask):\n",
    "    matmul_qk = tf.matmul(q, k, transpose_b=True)\n",
    "\n",
    "    dk = tf.cast(tf.shape(k)[-1], tf.float32)\n",
    "    scaled_attention_logits = matmul_qk / tf.math.sqrt(dk)\n",
    "\n",
    "    if mask is not None:\n",
    "        scaled_attention_logits += (mask * -1e9)  \n",
    "\n",
    "    attention_weights = tf.nn.softmax(scaled_attention_logits, axis=-1)\n",
    "\n",
    "    output = tf.matmul(attention_weights, v)\n",
    "    return output, attention_weights"
   ]
  },
  {
   "cell_type": "code",
   "execution_count": 26,
   "id": "fa9dab28",
   "metadata": {},
   "outputs": [],
   "source": [
    "class MultiHeadAttention(tf.keras.layers.Layer):\n",
    "    def __init__(self, d_model, num_heads):\n",
    "        super(MultiHeadAttention, self).__init__()\n",
    "        self.num_heads = num_heads\n",
    "        self.d_model = d_model\n",
    "\n",
    "        assert d_model % self.num_heads == 0\n",
    "\n",
    "        self.depth = d_model // self.num_heads\n",
    "\n",
    "        self.wq = tf.keras.layers.Dense(d_model)\n",
    "        self.wk = tf.keras.layers.Dense(d_model)\n",
    "        self.wv = tf.keras.layers.Dense(d_model)\n",
    "\n",
    "        self.dense = tf.keras.layers.Dense(d_model)\n",
    "        \n",
    "    def split_heads(self, x, batch_size):\n",
    "        x = tf.reshape(x, (batch_size, -1, self.num_heads, self.depth))\n",
    "        return tf.transpose(x, perm=[0, 2, 1, 3])\n",
    "    \n",
    "    def call(self, v, k, q, mask):\n",
    "        batch_size = tf.shape(q)[0]\n",
    "\n",
    "        q = self.wq(q)\n",
    "        k = self.wk(k)\n",
    "        v = self.wv(v)\n",
    "\n",
    "        q = self.split_heads(q, batch_size)\n",
    "        k = self.split_heads(k, batch_size)\n",
    "        v = self.split_heads(v, batch_size)\n",
    "        \n",
    "        scaled_attention, attention_weights = scaled_dot_product_attention(\n",
    "            q, k, v, mask)\n",
    "\n",
    "        scaled_attention = tf.transpose(scaled_attention, perm=[0, 2, 1, 3])\n",
    "        \n",
    "        concat_attention = tf.reshape(scaled_attention, (batch_size, -1, self.d_model))\n",
    "        output = self.dense(concat_attention)\n",
    "            \n",
    "        return output, attention_weights\n",
    "    \n",
    "def point_wise_feed_forward_network(d_model, dff):\n",
    "    return tf.keras.Sequential([\n",
    "        tf.keras.layers.Dense(dff, activation='relu'),\n",
    "        tf.keras.layers.Dense(d_model)\n",
    "    ])"
   ]
  },
  {
   "cell_type": "code",
   "execution_count": 27,
   "id": "266038a2",
   "metadata": {},
   "outputs": [],
   "source": [
    "class EncoderLayer(tf.keras.layers.Layer):\n",
    "    def __init__(self, d_model, num_heads, dff, rate=0.1):\n",
    "        super(EncoderLayer, self).__init__()\n",
    "\n",
    "        self.mha = MultiHeadAttention(d_model, num_heads)\n",
    "        self.ffn = point_wise_feed_forward_network(d_model, dff)\n",
    "\n",
    "        self.layernorm1 = tf.keras.layers.LayerNormalization(epsilon=1e-6)\n",
    "        self.layernorm2 = tf.keras.layers.LayerNormalization(epsilon=1e-6)\n",
    "\n",
    "        self.dropout1 = tf.keras.layers.Dropout(rate)\n",
    "        self.dropout2 = tf.keras.layers.Dropout(rate)\n",
    "    \n",
    "    def call(self, x, training, mask):\n",
    "        attn_output, _ = self.mha(x, x, x, mask)\n",
    "        attn_output = self.dropout1(attn_output, training=training)\n",
    "        out1 = self.layernorm1(x + attn_output)\n",
    "\n",
    "        ffn_output = self.ffn(out1)\n",
    "        ffn_output = self.dropout2(ffn_output, training=training)\n",
    "        out2 = self.layernorm2(out1 + ffn_output)\n",
    "\n",
    "        return out2"
   ]
  },
  {
   "cell_type": "code",
   "execution_count": 28,
   "id": "b8aae0e9",
   "metadata": {},
   "outputs": [],
   "source": [
    "class DecoderLayer(tf.keras.layers.Layer):\n",
    "    def __init__(self, d_model, num_heads, dff, rate=0.1):\n",
    "        super(DecoderLayer, self).__init__()\n",
    "\n",
    "        self.mha1 = MultiHeadAttention(d_model, num_heads)\n",
    "        self.mha2 = MultiHeadAttention(d_model, num_heads)\n",
    "\n",
    "        self.ffn = point_wise_feed_forward_network(d_model, dff)\n",
    "\n",
    "        self.layernorm1 = tf.keras.layers.LayerNormalization(epsilon=1e-6)\n",
    "        self.layernorm2 = tf.keras.layers.LayerNormalization(epsilon=1e-6)\n",
    "        self.layernorm3 = tf.keras.layers.LayerNormalization(epsilon=1e-6)\n",
    "\n",
    "        self.dropout1 = tf.keras.layers.Dropout(rate)\n",
    "        self.dropout2 = tf.keras.layers.Dropout(rate)\n",
    "        self.dropout3 = tf.keras.layers.Dropout(rate)\n",
    "    \n",
    "    \n",
    "    def call(self, x, enc_output, training, look_ahead_mask, padding_mask):\n",
    "        attn1, attn_weights_block1 = self.mha1(x, x, x, look_ahead_mask)\n",
    "        attn1 = self.dropout1(attn1, training=training)\n",
    "        out1 = self.layernorm1(attn1 + x)\n",
    "\n",
    "        attn2, attn_weights_block2 = self.mha2(enc_output, enc_output, out1, padding_mask)\n",
    "        attn2 = self.dropout2(attn2, training=training)\n",
    "        out2 = self.layernorm2(attn2 + out1)\n",
    "\n",
    "        ffn_output = self.ffn(out2)\n",
    "        ffn_output = self.dropout3(ffn_output, training=training)\n",
    "        out3 = self.layernorm3(ffn_output + out2)\n",
    "        \n",
    "        return out3, attn_weights_block1, attn_weights_block2\n"
   ]
  },
  {
   "cell_type": "code",
   "execution_count": 29,
   "id": "835eca1a",
   "metadata": {},
   "outputs": [],
   "source": [
    "class Encoder(tf.keras.layers.Layer):\n",
    "    def __init__(self, num_layers, d_model, num_heads, dff, input_vocab_size, maximum_position_encoding, rate=0.1):\n",
    "        super(Encoder, self).__init__()\n",
    "\n",
    "        self.d_model = d_model\n",
    "        self.num_layers = num_layers\n",
    "\n",
    "        self.embedding = tf.keras.layers.Embedding(input_vocab_size, d_model)\n",
    "        self.pos_encoding = positional_encoding(maximum_position_encoding, self.d_model)\n",
    "\n",
    "        self.enc_layers = [EncoderLayer(d_model, num_heads, dff, rate) for _ in range(num_layers)]\n",
    "\n",
    "        self.dropout = tf.keras.layers.Dropout(rate)\n",
    "        \n",
    "    def call(self, x, training, mask):\n",
    "        seq_len = tf.shape(x)[1]\n",
    "\n",
    "        x = self.embedding(x)\n",
    "        x *= tf.math.sqrt(tf.cast(self.d_model, tf.float32))\n",
    "        x += self.pos_encoding[:, :seq_len, :]\n",
    "\n",
    "        x = self.dropout(x, training=training)\n",
    "    \n",
    "        for i in range(self.num_layers):\n",
    "            x = self.enc_layers[i](x, training, mask)\n",
    "    \n",
    "        return x\n",
    "class Decoder(tf.keras.layers.Layer):\n",
    "        \n",
    "    def __init__(self, num_layers, d_model, num_heads, dff, target_vocab_size, maximum_position_encoding, rate=0.1):\n",
    "        super(Decoder, self).__init__()\n",
    "\n",
    "        self.d_model = d_model\n",
    "        self.num_layers = num_layers\n",
    "\n",
    "        self.embedding = tf.keras.layers.Embedding(target_vocab_size, d_model)\n",
    "        self.pos_encoding = positional_encoding(maximum_position_encoding, d_model)\n",
    "\n",
    "        self.dec_layers = [DecoderLayer(d_model, num_heads, dff, rate) for _ in range(num_layers)]\n",
    "        self.dropout = tf.keras.layers.Dropout(rate)\n",
    "    \n",
    "    def call(self, x, enc_output, training, look_ahead_mask, padding_mask):\n",
    "        seq_len = tf.shape(x)[1]\n",
    "        attention_weights = {}\n",
    "\n",
    "        x = self.embedding(x)\n",
    "        x *= tf.math.sqrt(tf.cast(self.d_model, tf.float32))\n",
    "        x += self.pos_encoding[:, :seq_len, :]\n",
    "\n",
    "        x = self.dropout(x, training=training)\n",
    "\n",
    "        for i in range(self.num_layers):\n",
    "            x, block1, block2 = self.dec_layers[i](x, enc_output, training, look_ahead_mask, padding_mask)\n",
    "\n",
    "            attention_weights['decoder_layer{}_block1'.format(i+1)] = block1\n",
    "            attention_weights['decoder_layer{}_block2'.format(i+1)] = block2\n",
    "            \n",
    "        return x, attention_weights"
   ]
  },
  {
   "cell_type": "code",
   "execution_count": 30,
   "id": "721fb221",
   "metadata": {},
   "outputs": [],
   "source": [
    "class Transformer(tf.keras.Model):\n",
    "    def __init__(self, num_layers, d_model, num_heads, dff, input_vocab_size, target_vocab_size, pe_input, pe_target, rate=0.1):\n",
    "        super(Transformer, self).__init__()\n",
    "\n",
    "        self.encoder = Encoder(num_layers, d_model, num_heads, dff, input_vocab_size, pe_input, rate)\n",
    "\n",
    "        self.decoder = Decoder(num_layers, d_model, num_heads, dff, target_vocab_size, pe_target, rate)\n",
    "\n",
    "        self.final_layer = tf.keras.layers.Dense(target_vocab_size)\n",
    "    \n",
    "    def call(self, inp, tar, training, enc_padding_mask, look_ahead_mask, dec_padding_mask):\n",
    "        enc_output = self.encoder(inp, training, enc_padding_mask)\n",
    "\n",
    "        dec_output, attention_weights = self.decoder(tar, enc_output, training, look_ahead_mask, dec_padding_mask)\n",
    "\n",
    "        final_output = self.final_layer(dec_output)\n",
    "\n",
    "        return final_output, attention_weights"
   ]
  },
  {
   "cell_type": "code",
   "execution_count": 31,
   "id": "1f9cbcac",
   "metadata": {},
   "outputs": [],
   "source": [
    "num_layers = 3\n",
    "d_model = 128\n",
    "dff = 512\n",
    "num_heads = 4\n",
    "dropout_rate = 0.2\n",
    "EPOCHS = 15"
   ]
  },
  {
   "cell_type": "markdown",
   "id": "64db840c",
   "metadata": {},
   "source": [
    "### Learning Rate and Customization"
   ]
  },
  {
   "cell_type": "code",
   "execution_count": 32,
   "id": "6a41012e",
   "metadata": {},
   "outputs": [],
   "source": [
    "class CustomSchedule(tf.keras.optimizers.schedules.LearningRateSchedule):\n",
    "    def __init__(self, d_model, warmup_steps=4000):\n",
    "        super(CustomSchedule, self).__init__()\n",
    "\n",
    "        self.d_model = d_model\n",
    "        self.d_model = tf.cast(self.d_model, tf.float32)\n",
    "\n",
    "        self.warmup_steps = warmup_steps\n",
    "    \n",
    "    def __call__(self, step):\n",
    "        arg1 = tf.math.rsqrt(step)\n",
    "        arg2 = step * (self.warmup_steps ** -1.5)\n",
    "\n",
    "        return tf.math.rsqrt(self.d_model) * tf.math.minimum(arg1, arg2)"
   ]
  },
  {
   "cell_type": "code",
   "execution_count": 34,
   "id": "d3f7e673",
   "metadata": {},
   "outputs": [],
   "source": [
    "learning_rate = CustomSchedule(d_model)\n",
    "\n",
    "optimizer = tf.keras.optimizers.legacy.Adam(learning_rate, beta_1=0.9, beta_2=0.98, epsilon=1e-9)"
   ]
  },
  {
   "cell_type": "code",
   "execution_count": 35,
   "id": "29e72521",
   "metadata": {},
   "outputs": [
    {
     "data": {
      "text/plain": [
       "Text(0.5, 0, 'Train Step')"
      ]
     },
     "execution_count": 35,
     "metadata": {},
     "output_type": "execute_result"
    },
    {
     "data": {
      "image/png": "[encoded data removed]",
      "text/plain": [
       "<Figure size 640x480 with 1 Axes>"
      ]
     },
     "metadata": {},
     "output_type": "display_data"
    }
   ],
   "source": [
    "temp_learning_rate_schedule = CustomSchedule(d_model)\n",
    "\n",
    "plt.plot(temp_learning_rate_schedule(tf.range(40000, dtype=tf.float32)))\n",
    "plt.ylabel(\"Learning Rate\")\n",
    "plt.xlabel(\"Train Step\")"
   ]
  },
  {
   "cell_type": "markdown",
   "id": "155fe103",
   "metadata": {},
   "source": [
    "### Checking Loss and Accuracy"
   ]
  },
  {
   "cell_type": "code",
   "execution_count": 36,
   "id": "de68ffdb",
   "metadata": {},
   "outputs": [],
   "source": [
    "loss_object = tf.keras.losses.SparseCategoricalCrossentropy(from_logits=True, reduction='none')\n",
    "def loss_function(real, pred):\n",
    "    mask = tf.math.logical_not(tf.math.equal(real, 0))\n",
    "    loss_ = loss_object(real, pred)\n",
    "\n",
    "    mask = tf.cast(mask, dtype=loss_.dtype)\n",
    "    loss_ *= mask\n",
    "\n",
    "    return tf.reduce_sum(loss_)/tf.reduce_sum(mask)\n",
    "\n",
    "\n",
    "def accuracy_function(real, pred):\n",
    "    accuracies = tf.equal(real, tf.argmax(pred, axis=2))\n",
    "    #accuracies = tf.cast(accuracies, dtype= tf.float32)\n",
    "\n",
    "    mask = tf.math.logical_not(tf.math.equal(real, 0))\n",
    "    accuracies = tf.math.logical_and(mask, accuracies)\n",
    "\n",
    "    accuracies = tf.cast(accuracies, dtype=tf.float32)\n",
    "    mask = tf.cast(mask, dtype=tf.float32)\n",
    "    return tf.reduce_sum(accuracies)/tf.reduce_sum(mask)"
   ]
  },
  {
   "cell_type": "code",
   "execution_count": 37,
   "id": "503a3206",
   "metadata": {},
   "outputs": [],
   "source": [
    "train_loss = tf.keras.metrics.Mean(name='train_loss')\n",
    "train_accuracy = tf.keras.metrics.Mean(name='train_accuracy')"
   ]
  },
  {
   "cell_type": "code",
   "execution_count": 38,
   "id": "82d391bf",
   "metadata": {},
   "outputs": [],
   "source": [
    "transformer = Transformer(\n",
    "    num_layers=num_layers,\n",
    "    d_model=d_model,\n",
    "    num_heads=num_heads,\n",
    "    dff=dff,\n",
    "    input_vocab_size=ENCODER_VOCAB,\n",
    "    target_vocab_size=DECODER_VOCAB,\n",
    "    pe_input=1000,\n",
    "    pe_target=1000,\n",
    "    rate=dropout_rate)"
   ]
  },
  {
   "cell_type": "code",
   "execution_count": 39,
   "id": "e695bf64",
   "metadata": {},
   "outputs": [],
   "source": [
    "def create_masks(inp, tar):\n",
    "    enc_padding_mask = create_padding_mask(inp)\n",
    "    dec_padding_mask = create_padding_mask(inp)\n",
    "\n",
    "    look_ahead_mask = create_look_ahead_mask(tf.shape(tar)[1])\n",
    "    dec_target_padding_mask = create_padding_mask(tar)\n",
    "    combined_mask = tf.maximum(dec_target_padding_mask, look_ahead_mask)\n",
    "  \n",
    "    return enc_padding_mask, combined_mask, dec_padding_mask"
   ]
  },
  {
   "cell_type": "code",
   "execution_count": 40,
   "id": "7830aff5",
   "metadata": {},
   "outputs": [],
   "source": [
    "checkpoint_path = \"checkpoints\"\n",
    "\n",
    "ckpt = tf.train.Checkpoint(transformer=transformer, optimizer=optimizer)\n",
    "\n",
    "ckpt_manager = tf.train.CheckpointManager(ckpt, checkpoint_path, max_to_keep=5)\n",
    "\n",
    "if ckpt_manager.latest_checkpoint:\n",
    "    ckpt.restore(ckpt_manager.latest_checkpoint)\n",
    "    print ('Latest checkpoint restored!!')"
   ]
  },
  {
   "cell_type": "code",
   "execution_count": 41,
   "id": "a9689f22",
   "metadata": {},
   "outputs": [],
   "source": [
    "@tf.function\n",
    "def train_step(inp, tar):\n",
    "    tar_inp = tar[:, :-1]\n",
    "    tar_real = tar[:, 1:]\n",
    "\n",
    "    enc_padding_mask, combined_mask, dec_padding_mask = create_masks(inp, tar_inp)\n",
    "\n",
    "    with tf.GradientTape() as tape:\n",
    "        predictions, _ = transformer(\n",
    "            inp, tar_inp, \n",
    "            True, \n",
    "            enc_padding_mask, \n",
    "            combined_mask, \n",
    "            dec_padding_mask\n",
    "        )\n",
    "        loss = loss_function(tar_real, predictions)\n",
    "\n",
    "    gradients = tape.gradient(loss, transformer.trainable_variables)    \n",
    "    optimizer.apply_gradients(zip(gradients, transformer.trainable_variables))\n",
    "\n",
    "    train_loss(loss)\n",
    "    train_accuracy(accuracy_function(tar_real, predictions))"
   ]
  },
  {
   "cell_type": "markdown",
   "id": "a8f4cb88",
   "metadata": {},
   "source": [
    "### Training the Model"
   ]
  },
  {
   "cell_type": "code",
   "execution_count": 162,
   "id": "abfff364",
   "metadata": {},
   "outputs": [
    {
     "name": "stdout",
     "output_type": "stream",
     "text": [
      "Epoch 1 Batch 0 Loss 2.7996 Accuracy 0.2141\n",
      "Epoch 1 Loss 3.1557 Accuracy 0.2299\n",
      "Time taken for 1 epoch: 28.1668119430542 secs\n",
      "\n",
      "Epoch 2 Batch 0 Loss 2.7125 Accuracy 0.2301\n",
      "Epoch 2 Loss 2.9827 Accuracy 0.2452\n",
      "Time taken for 1 epoch: 27.701714992523193 secs\n",
      "\n",
      "Epoch 3 Batch 0 Loss 2.6103 Accuracy 0.2454\n",
      "Epoch 3 Loss 2.8184 Accuracy 0.2600\n",
      "Time taken for 1 epoch: 27.49302887916565 secs\n",
      "\n",
      "Epoch 4 Batch 0 Loss 2.4253 Accuracy 0.2602\n",
      "Epoch 4 Loss 2.6609 Accuracy 0.2742\n",
      "Time taken for 1 epoch: 27.7584011554718 secs\n",
      "\n",
      "Epoch 5 Batch 0 Loss 2.4447 Accuracy 0.2744\n",
      "Saving checkpoint for epoch 5 at checkpoints/ckpt-4\n",
      "Epoch 5 Loss 2.5138 Accuracy 0.2878\n",
      "Time taken for 1 epoch: 28.99684190750122 secs\n",
      "\n",
      "Epoch 6 Batch 0 Loss 2.1782 Accuracy 0.2880\n",
      "Epoch 6 Loss 2.3752 Accuracy 0.3010\n",
      "Time taken for 1 epoch: 27.54604196548462 secs\n",
      "\n",
      "Epoch 7 Batch 0 Loss 2.2877 Accuracy 0.3012\n",
      "Epoch 7 Loss 2.2344 Accuracy 0.3138\n",
      "Time taken for 1 epoch: 27.458435773849487 secs\n",
      "\n",
      "Epoch 8 Batch 0 Loss 2.0564 Accuracy 0.3139\n",
      "Epoch 8 Loss 2.1077 Accuracy 0.3261\n",
      "Time taken for 1 epoch: 27.82062792778015 secs\n",
      "\n",
      "Epoch 9 Batch 0 Loss 2.1325 Accuracy 0.3263\n",
      "Epoch 9 Loss 1.9770 Accuracy 0.3383\n",
      "Time taken for 1 epoch: 27.98784899711609 secs\n",
      "\n",
      "Epoch 10 Batch 0 Loss 1.9168 Accuracy 0.3384\n",
      "Saving checkpoint for epoch 10 at checkpoints/ckpt-5\n",
      "Epoch 10 Loss 1.8582 Accuracy 0.3501\n",
      "Time taken for 1 epoch: 28.310357093811035 secs\n",
      "\n",
      "Epoch 11 Batch 0 Loss 1.7996 Accuracy 0.3502\n",
      "Epoch 11 Loss 1.7393 Accuracy 0.3617\n",
      "Time taken for 1 epoch: 27.535651922225952 secs\n",
      "\n",
      "Epoch 12 Batch 0 Loss 1.6343 Accuracy 0.3618\n",
      "Epoch 12 Loss 1.6291 Accuracy 0.3729\n",
      "Time taken for 1 epoch: 27.846658945083618 secs\n",
      "\n",
      "Epoch 13 Batch 0 Loss 1.5368 Accuracy 0.3731\n",
      "Epoch 13 Loss 1.5150 Accuracy 0.3840\n",
      "Time taken for 1 epoch: 27.927164793014526 secs\n",
      "\n",
      "Epoch 14 Batch 0 Loss 1.6369 Accuracy 0.3842\n",
      "Epoch 14 Loss 1.4139 Accuracy 0.3949\n",
      "Time taken for 1 epoch: 27.629390716552734 secs\n",
      "\n",
      "Epoch 15 Batch 0 Loss 1.3999 Accuracy 0.3950\n",
      "Saving checkpoint for epoch 15 at checkpoints/ckpt-6\n",
      "Epoch 15 Loss 1.3079 Accuracy 0.4056\n",
      "Time taken for 1 epoch: 27.73214888572693 secs\n",
      "\n"
     ]
    }
   ],
   "source": [
    "for epoch in range(EPOCHS):\n",
    "    start = time.time()\n",
    "\n",
    "    train_loss.reset_states()\n",
    "  \n",
    "    for (batch, (inp, tar)) in enumerate(dataset):\n",
    "        train_step(inp, tar)\n",
    "    \n",
    "        if batch % 100 == 0:\n",
    "            print(f'Epoch {epoch + 1} Batch {batch} Loss {train_loss.result():.4f} Accuracy {train_accuracy.result():.4f}')\n",
    "      \n",
    "    if (epoch + 1) % 5 == 0:\n",
    "        ckpt_save_path = ckpt_manager.save()\n",
    "        print ('Saving checkpoint for epoch {} at {}'.format(epoch+1, ckpt_save_path))\n",
    "   \n",
    "    print(f'Epoch {epoch + 1} Loss {train_loss.result():.4f} Accuracy {train_accuracy.result():.4f}')\n",
    "    print ('Time taken for 1 epoch: {} secs\\n'.format(time.time() - start))"
   ]
  },
  {
   "cell_type": "markdown",
   "id": "b9a40b9a",
   "metadata": {},
   "source": [
    "### Evaluating the model:\n"
   ]
  },
  {
   "cell_type": "code",
   "execution_count": 167,
   "id": "2b8905a0",
   "metadata": {},
   "outputs": [],
   "source": [
    "def evaluate(input_transcript):\n",
    "    input_transcript = maintext_tokenizer.texts_to_sequences([input_transcript])\n",
    "    input_transcript = tf.keras.preprocessing.sequence.pad_sequences(input_transcript, maxlen=ENCODER_LEN, \n",
    "                                                                   padding='post', truncating='post')\n",
    "\n",
    "    encoder_input = tf.expand_dims(input_transcript[0], 0)\n",
    "\n",
    "    decoder_input = [ref_tokenizer.word_index['<sos>']]\n",
    "    output = tf.expand_dims(decoder_input, 0)\n",
    "    \n",
    "    for i in range(DECODER_LEN):\n",
    "        enc_padding_mask, combined_mask, dec_padding_mask = create_masks(encoder_input, output)\n",
    "\n",
    "        predictions, attention_weights = transformer(\n",
    "            encoder_input, \n",
    "            output,\n",
    "            False,\n",
    "            enc_padding_mask,\n",
    "            combined_mask,\n",
    "            dec_padding_mask\n",
    "        )\n",
    "\n",
    "        predictions = predictions[: ,-1:, :]\n",
    "        predicted_id = tf.cast(tf.argmax(predictions, axis=-1), tf.int32)\n",
    "\n",
    "        if predicted_id == ref_tokenizer.word_index['<eos>']:\n",
    "            return tf.squeeze(output, axis=0), attention_weights\n",
    "\n",
    "        output = tf.concat([output, predicted_id], axis=-1)\n",
    "\n",
    "    return tf.squeeze(output, axis=0), attention_weights"
   ]
  },
  {
   "cell_type": "code",
   "execution_count": 168,
   "id": "737e878e",
   "metadata": {},
   "outputs": [],
   "source": [
    "def summarize(input_transcript):\n",
    "    summarized = evaluate(input_transcript=input_transcript)[0].numpy()\n",
    "    summarized = np.expand_dims(summarized[1:], 0)  \n",
    "    return ref_tokenizer.sequences_to_texts(summarized)[0]"
   ]
  },
  {
   "cell_type": "markdown",
   "id": "3b412f1d",
   "metadata": {},
   "source": [
    "### Looking at some Summarizations:"
   ]
  },
  {
   "cell_type": "code",
   "execution_count": 169,
   "id": "16c90e42",
   "metadata": {},
   "outputs": [
    {
     "data": {
      "text/plain": [
       "\"<SOS> Speaker 3: Thank you. Number 23, please.\\nSpeaker 0: Item 23 Report from Financial Management Recommendation to Adobe Resolution Authorizing City Manager to execute a contract with Home Depot USA for furnishing and delivering materials on an as needed basis, literally in a total annual amount and not to exceed 1.2 million.\\nSpeaker 3: Thank you. Moving in second in any public comment on this.\\nSpeaker 5: If there are any members of the public that would like to speak on item 23 in person, please line up at the podium in Zoom. Please use the raise hand feature. See. Now, that concludes public comments.\\nSpeaker 3: Thank you, members. Please cast your vote.\\nSpeaker 0: As Women's Sunday has.\\nSpeaker 2: I.\\nSpeaker 0: Councilwoman Allen. I can't. WOMAN Price.\\nSpeaker 2: I.\\nSpeaker 0: Councilman Spinner. Councilwoman Mango.\\nSpeaker 2: Hi.\\nSpeaker 0: Councilwoman Sara I Councilmember Ranga. Councilman Austin.\\nSpeaker 6: Hi.\\nSpeaker 0: Vice Mayor Richardson. The motion is 87 zero. <EOS>\""
      ]
     },
     "execution_count": 169,
     "metadata": {},
     "output_type": "execute_result"
    }
   ],
   "source": [
    "maintext[10]"
   ]
  },
  {
   "cell_type": "code",
   "execution_count": 170,
   "id": "364871d0",
   "metadata": {},
   "outputs": [
    {
     "name": "stdout",
     "output_type": "stream",
     "text": [
      "\n",
      "Predicted Summary :  recommendation to adopt resolution authorizing city manager or designee to execute a contract and any necessary documents including any necessary\n"
     ]
    }
   ],
   "source": [
    "print(\"\\nPredicted Summary : \", summarize(maintext[10]))"
   ]
  },
  {
   "cell_type": "code",
   "execution_count": 171,
   "id": "b18bb073",
   "metadata": {},
   "outputs": [
    {
     "data": {
      "text/plain": [
       "\"<SOS> Speaker 1: Thank you. Back to item five of the consent calendar.\\nSpeaker 2: Item Pfizer Report from Development Services Financial Management Recommendation two What the contract to KLA Corporation for Downtown Long Beach Area Parking study for total contract amount not to exceed $269,000 one and two.\\nSpeaker 9: Councilmember Gonzalez Yes, I just had questions. We didn't you know, this item was really light. It didn't really include a lot of information. I know this is relative to the TAPS group. So can we get a staff report on this item and some more context around what exactly the boundaries, the scope of work, etc., please?\\nSpeaker 5: Amy Bodak.\\nSpeaker 3: Mr. Mayor. Members of the city council. Good morning. With this is a scope of work that was reviewed as part of the settlement agreement between TAPS and the city of Long Beach for three downtown projects. The settlement agreement was very specific on what the survey areas would be in the scope of work, and an RFP was drafted that was reviewed by TAPS and their attorney as part of the settlement agreement. We went through an RFP process and interviewed firms. We shared the the proposals with TAPS. We met with TAPS in accordance with the settlement agreement to get their comments on their preferred vendor as well. And we selected Chloé to do this study. It includes downtown Long Beach, but also Alamitos Beach. There are two slightly different scopes of work related to the contract, and there's a certain timeframe that we are committing to to implement this this parking RFP study.\\nSpeaker 9: Okay. Thank you. Was there ever a it was there a two from four that came out with this information? At all or I know it was. There was an RFP and there was through that process.\\nSpeaker 3: This settlement agreement did go to the city council. I believe in closed session. And within the settlement agreement was the entire scope of work. Okay.\\nSpeaker 9: And. Okay. That is all the information that I have. At this time. Thank you. Sure.\\nSpeaker 1: Any public comment on the item saying that? Please cast your votes.\\nSpeaker 0: Yes.\\nSpeaker 2: Vice Mayor Richardson wishing Karis.\\nSpeaker 1: Out of nine, please. I'm 18. It's yours. <EOS>\""
      ]
     },
     "execution_count": 171,
     "metadata": {},
     "output_type": "execute_result"
    }
   ],
   "source": [
    "maintext[1212]"
   ]
  },
  {
   "cell_type": "code",
   "execution_count": 172,
   "id": "13943e45",
   "metadata": {},
   "outputs": [
    {
     "name": "stdout",
     "output_type": "stream",
     "text": [
      "\n",
      "Predicted Summary :  recommendation to adopt specifications no rfp ep16 121 for the purchase and development opportunity at alameda point base reuse 819099\n"
     ]
    }
   ],
   "source": [
    "print(\"\\nPredicted Summary : \", summarize(maintext[1212]))"
   ]
  },
  {
   "cell_type": "code",
   "execution_count": null,
   "id": "8c15d9e3",
   "metadata": {},
   "outputs": [],
   "source": []
  }
 ],
 "metadata": {
  "kernelspec": {
   "display_name": "Python 3 (ipykernel)",
   "language": "python",
   "name": "python3"
  },
  "language_info": {
   "codemirror_mode": {
    "name": "ipython",
    "version": 3
   },
   "file_extension": ".py",
   "mimetype": "text/x-python",
   "name": "python",
   "nbconvert_exporter": "python",
   "pygments_lexer": "ipython3",
   "version": "3.12.4"
  }
 },
 "nbformat": 4,
 "nbformat_minor": 5
}
