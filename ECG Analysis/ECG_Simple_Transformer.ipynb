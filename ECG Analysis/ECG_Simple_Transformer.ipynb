{
 "cells": [
  {
   "cell_type": "code",
   "execution_count": null,
   "metadata": {
    "colab": {
     "base_uri": "https://localhost:8080/"
    },
    "id": "IcI43_CT4qsQ",
    "outputId": "1f08140f-b086-4454-dc3e-e133a807016b"
   },
   "outputs": [
    {
     "name": "stdout",
     "output_type": "stream",
     "text": [
      "Requirement already satisfied: wfdb in /usr/local/lib/python3.10/dist-packages (4.1.2)\n",
      "Requirement already satisfied: SoundFile>=0.10.0 in /usr/local/lib/python3.10/dist-packages (from wfdb) (0.12.1)\n",
      "Requirement already satisfied: matplotlib>=3.2.2 in /usr/local/lib/python3.10/dist-packages (from wfdb) (3.8.0)\n",
      "Requirement already satisfied: numpy>=1.10.1 in /usr/local/lib/python3.10/dist-packages (from wfdb) (1.26.4)\n",
      "Requirement already satisfied: pandas>=1.3.0 in /usr/local/lib/python3.10/dist-packages (from wfdb) (2.2.2)\n",
      "Requirement already satisfied: requests>=2.8.1 in /usr/local/lib/python3.10/dist-packages (from wfdb) (2.32.3)\n",
      "Requirement already satisfied: scipy>=1.0.0 in /usr/local/lib/python3.10/dist-packages (from wfdb) (1.13.1)\n",
      "Requirement already satisfied: contourpy>=1.0.1 in /usr/local/lib/python3.10/dist-packages (from matplotlib>=3.2.2->wfdb) (1.3.1)\n",
      "Requirement already satisfied: cycler>=0.10 in /usr/local/lib/python3.10/dist-packages (from matplotlib>=3.2.2->wfdb) (0.12.1)\n",
      "Requirement already satisfied: fonttools>=4.22.0 in /usr/local/lib/python3.10/dist-packages (from matplotlib>=3.2.2->wfdb) (4.55.0)\n",
      "Requirement already satisfied: kiwisolver>=1.0.1 in /usr/local/lib/python3.10/dist-packages (from matplotlib>=3.2.2->wfdb) (1.4.7)\n",
      "Requirement already satisfied: packaging>=20.0 in /usr/local/lib/python3.10/dist-packages (from matplotlib>=3.2.2->wfdb) (24.2)\n",
      "Requirement already satisfied: pillow>=6.2.0 in /usr/local/lib/python3.10/dist-packages (from matplotlib>=3.2.2->wfdb) (11.0.0)\n",
      "Requirement already satisfied: pyparsing>=2.3.1 in /usr/local/lib/python3.10/dist-packages (from matplotlib>=3.2.2->wfdb) (3.2.0)\n",
      "Requirement already satisfied: python-dateutil>=2.7 in /usr/local/lib/python3.10/dist-packages (from matplotlib>=3.2.2->wfdb) (2.8.2)\n",
      "Requirement already satisfied: pytz>=2020.1 in /usr/local/lib/python3.10/dist-packages (from pandas>=1.3.0->wfdb) (2024.2)\n",
      "Requirement already satisfied: tzdata>=2022.7 in /usr/local/lib/python3.10/dist-packages (from pandas>=1.3.0->wfdb) (2024.2)\n",
      "Requirement already satisfied: charset-normalizer<4,>=2 in /usr/local/lib/python3.10/dist-packages (from requests>=2.8.1->wfdb) (3.4.0)\n",
      "Requirement already satisfied: idna<4,>=2.5 in /usr/local/lib/python3.10/dist-packages (from requests>=2.8.1->wfdb) (3.10)\n",
      "Requirement already satisfied: urllib3<3,>=1.21.1 in /usr/local/lib/python3.10/dist-packages (from requests>=2.8.1->wfdb) (2.2.3)\n",
      "Requirement already satisfied: certifi>=2017.4.17 in /usr/local/lib/python3.10/dist-packages (from requests>=2.8.1->wfdb) (2024.8.30)\n",
      "Requirement already satisfied: cffi>=1.0 in /usr/local/lib/python3.10/dist-packages (from SoundFile>=0.10.0->wfdb) (1.17.1)\n",
      "Requirement already satisfied: pycparser in /usr/local/lib/python3.10/dist-packages (from cffi>=1.0->SoundFile>=0.10.0->wfdb) (2.22)\n",
      "Requirement already satisfied: six>=1.5 in /usr/local/lib/python3.10/dist-packages (from python-dateutil>=2.7->matplotlib>=3.2.2->wfdb) (1.16.0)\n"
     ]
    }
   ],
   "source": [
    "!pip install wfdb"
   ]
  },
  {
   "cell_type": "code",
   "execution_count": null,
   "metadata": {
    "id": "hXiQQFP95fbS"
   },
   "outputs": [],
   "source": [
    "\n",
    "# Import necessary modules\n",
    "import tensorflow as tf\n",
    "from tensorflow import keras\n",
    "from tensorflow.keras import layers, models, optimizers\n",
    "# Import EarlyStopping directly from tensorflow.keras.callbacks\n",
    "from tensorflow.keras.callbacks import EarlyStopping\n",
    "import numpy as np\n",
    "from tensorflow.keras import models, layers\n",
    "from sklearn.metrics import classification_report, f1_score\n",
    "import wfdb\n",
    "import matplotlib.pyplot as plt\n"
   ]
  },
  {
   "cell_type": "code",
   "execution_count": null,
   "metadata": {
    "colab": {
     "base_uri": "https://localhost:8080/"
    },
    "id": "rPQAXxDl4xH9",
    "outputId": "40e7bcf1-7804-47d7-b366-b91d942d3614"
   },
   "outputs": [
    {
     "name": "stdout",
     "output_type": "stream",
     "text": [
      "Drive already mounted at /content/drive; to attempt to forcibly remount, call drive.mount(\"/content/drive\", force_remount=True).\n"
     ]
    }
   ],
   "source": [
    "from google.colab import drive\n",
    "drive.mount('/content/drive')"
   ]
  },
  {
   "cell_type": "code",
   "execution_count": null,
   "metadata": {
    "id": "YYUZPMta42uz"
   },
   "outputs": [],
   "source": [
    "# Load a single record (e.g., record 100)\n",
    "record = wfdb.rdrecord('/content/drive/MyDrive/DL-Project/Data/mit-bih-arrhythmia-database-1.0.0/100')\n",
    "annotation = wfdb.rdann('/content/drive/MyDrive/DL-Project/Data/mit-bih-arrhythmia-database-1.0.0/100', 'atr')\n",
    "\n",
    "# Extract signals and annotations\n",
    "signals = record.p_signal  # ECG signals (2 channels)\n",
    "fs = record.fs  # Sampling frequency\n",
    "annotations = annotation.sample  # Annotation positions in samples\n",
    "labels = annotation.symbol  # Annotation symbols"
   ]
  },
  {
   "cell_type": "code",
   "execution_count": null,
   "metadata": {
    "id": "_cUW-qmK45qW"
   },
   "outputs": [],
   "source": [
    "from scipy.signal import butter, filtfilt\n",
    "\n",
    "def highpass_filter(signal, cutoff=0.5, fs=360, order=2):\n",
    "    nyquist = 0.5 * fs\n",
    "    normal_cutoff = cutoff / nyquist\n",
    "    b, a = butter(order, normal_cutoff, btype='high', analog=False)\n",
    "    return filtfilt(b, a, signal)\n",
    "\n",
    "filtered_signal = highpass_filter(signals[:, 0])  # Apply to channel 1"
   ]
  },
  {
   "cell_type": "code",
   "execution_count": null,
   "metadata": {
    "id": "_7lKg6xH4715"
   },
   "outputs": [],
   "source": [
    "normalized_signal = (filtered_signal - np.mean(filtered_signal)) / np.std(filtered_signal)"
   ]
  },
  {
   "cell_type": "code",
   "execution_count": null,
   "metadata": {
    "id": "YMZPy9Zy4_SV"
   },
   "outputs": [],
   "source": [
    "def extract_segments(signals, annotations, labels, fs, segment_duration=2):\n",
    "    segments = []\n",
    "    segment_labels = []\n",
    "    segment_length = segment_duration * fs // 2\n",
    "\n",
    "    for i, idx in enumerate(annotations):\n",
    "        start = max(0, idx - segment_length)\n",
    "        end = min(len(signals), idx + segment_length)\n",
    "        segment = signals[start:end]\n",
    "\n",
    "        # Pad if the segment is shorter than desired length\n",
    "        if len(segment) < 2 * segment_length:\n",
    "            segment = np.pad(segment, (0, 2 * segment_length - len(segment)), 'constant')\n",
    "\n",
    "        segments.append(segment)\n",
    "        segment_labels.append(labels[i])\n",
    "\n",
    "    return np.array(segments), np.array(segment_labels)\n",
    "\n",
    "segments, segment_labels = extract_segments(normalized_signal, annotations, labels, fs)"
   ]
  },
  {
   "cell_type": "code",
   "execution_count": null,
   "metadata": {
    "colab": {
     "base_uri": "https://localhost:8080/"
    },
    "id": "dJsmAOnN5BdD",
    "outputId": "b90894b7-43c4-4e5f-d8c0-c6528ead04b6"
   },
   "outputs": [
    {
     "name": "stdout",
     "output_type": "stream",
     "text": [
      "{'+': 0, 'A': 1, 'N': 2, 'V': 3}\n"
     ]
    }
   ],
   "source": [
    "from sklearn.preprocessing import LabelEncoder\n",
    "\n",
    "# Encode labels as integers\n",
    "label_encoder = LabelEncoder()\n",
    "encoded_labels = label_encoder.fit_transform(segment_labels)\n",
    "\n",
    "# Check label mapping\n",
    "print(dict(zip(label_encoder.classes_, label_encoder.transform(label_encoder.classes_))))"
   ]
  },
  {
   "cell_type": "code",
   "execution_count": null,
   "metadata": {
    "colab": {
     "base_uri": "https://localhost:8080/"
    },
    "id": "jcD6wcy85E_I",
    "outputId": "5293a76a-53aa-41d1-f518-9afbd61e2641"
   },
   "outputs": [
    {
     "name": "stdout",
     "output_type": "stream",
     "text": [
      "{0: 568.5, 1: 17.227272727272727, 2: 0.2539079946404645, 3: 568.5}\n"
     ]
    }
   ],
   "source": [
    "from sklearn.utils.class_weight import compute_class_weight\n",
    "\n",
    "class_weights = compute_class_weight(\n",
    "    'balanced', classes=np.unique(encoded_labels), y=encoded_labels)\n",
    "class_weights_dict = dict(enumerate(class_weights))\n",
    "print(class_weights_dict)"
   ]
  },
  {
   "cell_type": "code",
   "execution_count": null,
   "metadata": {
    "colab": {
     "base_uri": "https://localhost:8080/"
    },
    "id": "MdfowTh8Edqr",
    "outputId": "2041cc1a-2f6c-4e08-e1c4-719917ce5c1d"
   },
   "outputs": [
    {
     "name": "stdout",
     "output_type": "stream",
     "text": [
      "Label Mapping: {'+': 0, '/': 1, 'A': 2, 'N': 3, 'Q': 4, 'V': 5, 'f': 6, '|': 7, '~': 8}\n",
      "Preprocessing complete!\n",
      "Training Data Shape: (4438, 720, 1), (4438,)\n",
      "Validation Data Shape: (951, 720, 1), (951,)\n",
      "Test Data Shape: (951, 720, 1), (951,)\n"
     ]
    }
   ],
   "source": [
    "import os\n",
    "import wfdb\n",
    "import numpy as np\n",
    "from sklearn.preprocessing import LabelEncoder\n",
    "from sklearn.model_selection import train_test_split\n",
    "from scipy.signal import butter, filtfilt, iirnotch\n",
    "\n",
    "# Define preprocessing functions\n",
    "\n",
    "# 1. High-pass filter to remove baseline wander\n",
    "def highpass_filter(signal, cutoff=0.5, fs=360, order=2):\n",
    "    nyquist = 0.5 * fs\n",
    "    normal_cutoff = cutoff / nyquist\n",
    "    b, a = butter(order, normal_cutoff, btype='high', analog=False)\n",
    "    return filtfilt(b, a, signal)\n",
    "\n",
    "# 2. Notch filter to remove power-line interference\n",
    "def notch_filter(signal, freq=50, fs=360, Q=30):\n",
    "    w0 = freq / (fs / 2)\n",
    "    b, a = iirnotch(w0, Q)\n",
    "    return filtfilt(b, a, signal)\n",
    "\n",
    "# 3. Normalize the signal\n",
    "def normalize_signal(signal):\n",
    "    return (signal - np.mean(signal)) / np.std(signal)\n",
    "\n",
    "# 4. Process a single record file\n",
    "def process_record(file_path, segment_duration=2, fs=360):\n",
    "    # Load the signal and annotations\n",
    "    record = wfdb.rdrecord(file_path)\n",
    "    annotation = wfdb.rdann(file_path, 'atr')\n",
    "\n",
    "    # Extract signals and annotations\n",
    "    signals = record.p_signal[:, 0]  # Use channel 0 (e.g., MLII)\n",
    "    annotations = annotation.sample  # Sample indices of R-peaks\n",
    "    labels = annotation.symbol  # Labels for each R-peak\n",
    "\n",
    "    # Preprocess signals: filtering and normalization\n",
    "    signals = highpass_filter(signals)\n",
    "    signals = notch_filter(signals)\n",
    "    signals = normalize_signal(signals)\n",
    "\n",
    "    # Segment the signals around each R-peak\n",
    "    segment_length = segment_duration * fs // 2\n",
    "    segments, segment_labels = [], []\n",
    "\n",
    "    for i, idx in enumerate(annotations):\n",
    "        start = max(0, idx - segment_length)\n",
    "        end = min(len(signals), idx + segment_length)\n",
    "        segment = signals[start:end]\n",
    "\n",
    "        # Pad if the segment is shorter than desired length\n",
    "        if len(segment) < 2 * segment_length:\n",
    "            segment = np.pad(segment, (0, 2 * segment_length - len(segment)), 'constant')\n",
    "\n",
    "        segments.append(segment)\n",
    "        segment_labels.append(labels[i])\n",
    "\n",
    "    return np.array(segments), np.array(segment_labels)\n",
    "\n",
    "# Aggregate data from multiple files\n",
    "def process_multiple_files(data_dir, record_files, segment_duration=2, fs=360):\n",
    "    all_segments = []\n",
    "    all_labels = []\n",
    "\n",
    "    for record in record_files:\n",
    "        file_path = os.path.join(data_dir, record)\n",
    "        segments, labels = process_record(file_path, segment_duration, fs)\n",
    "        all_segments.append(segments)\n",
    "        all_labels.append(labels)\n",
    "\n",
    "    # Combine all segments and labels\n",
    "    X = np.vstack(all_segments)  # Stack all segments into one array\n",
    "    y = np.concatenate(all_labels)  # Concatenate all labels into one array\n",
    "    return X, y\n",
    "\n",
    "# Directory containing the dataset\n",
    "data_dir = \"/content/drive/MyDrive/DL-Project/Data/mit-bih-arrhythmia-database-1.0.0/\"\n",
    "\n",
    "# List of all record files (without extensions)\n",
    "record_files = [\n",
    "    \"100\", \"101\", \"102\"\n",
    "]\n",
    "\n",
    "# Process all files\n",
    "X, y = process_multiple_files(data_dir, record_files)\n",
    "\n",
    "# Encode labels as integers\n",
    "label_encoder = LabelEncoder()\n",
    "y_encoded = label_encoder.fit_transform(y)\n",
    "\n",
    "# Display label mapping\n",
    "print(\"Label Mapping:\", dict(zip(label_encoder.classes_, label_encoder.transform(label_encoder.classes_))))\n",
    "\n",
    "# Split data into training, validation, and test sets\n",
    "X_train, X_temp, y_train, y_temp = train_test_split(X, y_encoded, test_size=0.3, random_state=42)\n",
    "X_val, X_test, y_val, y_test = train_test_split(X_temp, y_temp, test_size=0.5, random_state=42)\n",
    "\n",
    "# Reshape data for RNN input\n",
    "X_train = X_train[..., np.newaxis]  # Add a channel dimension\n",
    "X_val = X_val[..., np.newaxis]\n",
    "X_test = X_test[..., np.newaxis]\n",
    "\n",
    "\n",
    "\n",
    "print(\"Preprocessing complete!\")\n",
    "print(f\"Training Data Shape: {X_train.shape}, {y_train.shape}\")\n",
    "print(f\"Validation Data Shape: {X_val.shape}, {y_val.shape}\")\n",
    "print(f\"Test Data Shape: {X_test.shape}, {y_test.shape}\")\n"
   ]
  },
  {
   "cell_type": "code",
   "execution_count": null,
   "metadata": {
    "id": "rQCjSkz74tZR"
   },
   "outputs": [],
   "source": [
    "# Transformer Encoder Block\n",
    "def transformer_encoder(inputs, head_size, num_heads, ff_dim, dropout=0.1):\n",
    "    # Multi-head Self-Attention\n",
    "    x = layers.MultiHeadAttention(num_heads=num_heads, key_dim=head_size)(inputs, inputs)\n",
    "    x = layers.Dropout(dropout)(x)\n",
    "    x = layers.LayerNormalization(epsilon=1e-6)(x + inputs)\n",
    "\n",
    "    # Feed Forward Network\n",
    "    ff = layers.Dense(ff_dim, activation=\"relu\")(x)\n",
    "    ff = layers.Dense(inputs.shape[-1])(ff)\n",
    "    x = layers.Dropout(dropout)(ff)\n",
    "    x = layers.LayerNormalization(epsilon=1e-6)(x + ff)\n",
    "    return x\n",
    "\n",
    "# Build the Transformer Model\n",
    "def build_transformer_model(input_shape, num_classes, num_heads=4, head_size=64, ff_dim=128, num_transformer_blocks=2, dropout=0.1):\n",
    "    inputs = layers.Input(shape=input_shape)\n",
    "\n",
    "    # Positional Encoding\n",
    "    positions = tf.range(start=0, limit=input_shape[0], delta=1)\n",
    "    embedding_layer = layers.Embedding(input_dim=input_shape[0], output_dim=input_shape[1])\n",
    "    embeddings = embedding_layer(positions)\n",
    "    x = inputs + embeddings\n",
    "\n",
    "    # Transformer Encoder Blocks\n",
    "    for _ in range(num_transformer_blocks):\n",
    "        x = transformer_encoder(x, head_size, num_heads, ff_dim, dropout)\n",
    "\n",
    "    # Global Pooling and Classification\n",
    "    x = layers.GlobalAveragePooling1D()(x)\n",
    "    x = layers.Dropout(dropout)(x)\n",
    "    outputs = layers.Dense(num_classes, activation=\"softmax\")(x)\n",
    "\n",
    "    model = models.Model(inputs, outputs)\n",
    "    model.compile(optimizer=optimizers.Adam(learning_rate=0.001),\n",
    "                  loss=\"sparse_categorical_crossentropy\",\n",
    "                  metrics=[\"accuracy\"])\n",
    "    return model"
   ]
  },
  {
   "cell_type": "code",
   "execution_count": null,
   "metadata": {
    "id": "nXcJtY8z6D0g"
   },
   "outputs": [],
   "source": [
    "# Function to plot training history\n",
    "def plot_history(history):\n",
    "    # Plot accuracy\n",
    "    plt.figure(figsize=(12, 4))\n",
    "    plt.subplot(1, 2, 1)\n",
    "    plt.plot(history.history['accuracy'], label='Train Accuracy')\n",
    "    plt.plot(history.history['val_accuracy'], label='Validation Accuracy')\n",
    "    plt.xlabel('Epochs')\n",
    "    plt.ylabel('Accuracy')\n",
    "    plt.title('Model Accuracy')\n",
    "    plt.legend()\n",
    "\n",
    "    # Plot loss\n",
    "    plt.subplot(1, 2, 2)\n",
    "    plt.plot(history.history['loss'], label='Train Loss')\n",
    "    plt.plot(history.history['val_loss'], label='Validation Loss')\n",
    "    plt.xlabel('Epochs')\n",
    "    plt.ylabel('Loss')\n",
    "    plt.title('Model Loss')\n",
    "    plt.legend()\n",
    "\n",
    "    plt.show()"
   ]
  },
  {
   "cell_type": "code",
   "execution_count": null,
   "metadata": {
    "id": "4JC7B47U9TT3"
   },
   "outputs": [],
   "source": [
    "# Get input shape and number of classes\n",
    "input_shape = X_train.shape[1:]  # (timesteps, features)\n",
    "num_classes = len(np.unique(y_train))"
   ]
  },
  {
   "cell_type": "code",
   "execution_count": null,
   "metadata": {
    "id": "d2bZNH8y52-u"
   },
   "outputs": [],
   "source": [
    "# Train and evaluate the model\n",
    "def train_and_evaluate_transformer(X_train, y_train, X_val, y_val, X_test, y_test):\n",
    "    # Build the model\n",
    "    model = build_transformer_model(input_shape, num_classes)\n",
    "\n",
    "    # Early stopping\n",
    "    early_stopping = EarlyStopping(monitor='val_loss', patience=3, restore_best_weights=True)\n",
    "\n",
    "    # Train the model\n",
    "    history = model.fit(\n",
    "        X_train, y_train,\n",
    "        validation_data=(X_val, y_val),\n",
    "        epochs=50,\n",
    "        batch_size=64,\n",
    "        callbacks=[early_stopping]\n",
    "    )\n",
    "\n",
    "    # Plot training history\n",
    "    plot_history(history)\n",
    "\n",
    "    # Evaluate on test data\n",
    "    test_loss, test_accuracy = model.evaluate(X_test, y_test)\n",
    "    print(f\"Test Accuracy: {test_accuracy:.4f}\")\n",
    "\n",
    "    # Predictions and classification report\n",
    "    y_pred = model.predict(X_test).argmax(axis=1)\n",
    "    print(classification_report(y_test, y_pred))\n",
    "\n",
    "    # Weighted F1 Score\n",
    "    f1 = f1_score(y_test, y_pred, average=\"weighted\")\n",
    "    print(f\"Weighted F1 Score: {f1:.4f}\")\n",
    "\n",
    "    return model"
   ]
  },
  {
   "cell_type": "code",
   "execution_count": null,
   "metadata": {
    "colab": {
     "background_save": true,
     "base_uri": "https://localhost:8080/"
    },
    "id": "hAORFJpy5weJ",
    "outputId": "dc6d57b8-afe2-4943-f0d2-c25b53441925"
   },
   "outputs": [
    {
     "name": "stdout",
     "output_type": "stream",
     "text": [
      "Epoch 1/50\n",
      "\u001b[1m70/70\u001b[0m \u001b[32m━━━━━━━━━━━━━━━━━━━━\u001b[0m\u001b[37m\u001b[0m \u001b[1m32s\u001b[0m 252ms/step - accuracy: 0.6068 - loss: 2.1699 - val_accuracy: 0.6740 - val_loss: 2.0815\n",
      "Epoch 2/50\n",
      "\u001b[1m70/70\u001b[0m \u001b[32m━━━━━━━━━━━━━━━━━━━━\u001b[0m\u001b[37m\u001b[0m \u001b[1m8s\u001b[0m 116ms/step - accuracy: 0.6595 - loss: 2.0494 - val_accuracy: 0.6740 - val_loss: 1.9396\n",
      "Epoch 3/50\n",
      "\u001b[1m70/70\u001b[0m \u001b[32m━━━━━━━━━━━━━━━━━━━━\u001b[0m\u001b[37m\u001b[0m \u001b[1m10s\u001b[0m 117ms/step - accuracy: 0.6590 - loss: 1.9025 - val_accuracy: 0.6740 - val_loss: 1.7761\n",
      "Epoch 4/50\n",
      "\u001b[1m70/70\u001b[0m \u001b[32m━━━━━━━━━━━━━━━━━━━━\u001b[0m\u001b[37m\u001b[0m \u001b[1m8s\u001b[0m 118ms/step - accuracy: 0.6587 - loss: 1.7389 - val_accuracy: 0.6740 - val_loss: 1.6022\n",
      "Epoch 5/50\n",
      "\u001b[1m70/70\u001b[0m \u001b[32m━━━━━━━━━━━━━━━━━━━━\u001b[0m\u001b[37m\u001b[0m \u001b[1m8s\u001b[0m 119ms/step - accuracy: 0.6687 - loss: 1.5680 - val_accuracy: 0.6740 - val_loss: 1.4329\n",
      "Epoch 6/50\n",
      "\u001b[1m70/70\u001b[0m \u001b[32m━━━━━━━━━━━━━━━━━━━━\u001b[0m\u001b[37m\u001b[0m \u001b[1m8s\u001b[0m 119ms/step - accuracy: 0.6675 - loss: 1.4051 - val_accuracy: 0.6740 - val_loss: 1.2791\n",
      "Epoch 7/50\n",
      "\u001b[1m70/70\u001b[0m \u001b[32m━━━━━━━━━━━━━━━━━━━━\u001b[0m\u001b[37m\u001b[0m \u001b[1m10s\u001b[0m 119ms/step - accuracy: 0.6620 - loss: 1.2624 - val_accuracy: 0.6740 - val_loss: 1.1507\n",
      "Epoch 8/50\n",
      "\u001b[1m70/70\u001b[0m \u001b[32m━━━━━━━━━━━━━━━━━━━━\u001b[0m\u001b[37m\u001b[0m \u001b[1m8s\u001b[0m 117ms/step - accuracy: 0.6612 - loss: 1.1560 - val_accuracy: 0.6740 - val_loss: 1.0485\n",
      "Epoch 9/50\n",
      "\u001b[1m70/70\u001b[0m \u001b[32m━━━━━━━━━━━━━━━━━━━━\u001b[0m\u001b[37m\u001b[0m \u001b[1m10s\u001b[0m 118ms/step - accuracy: 0.6522 - loss: 1.0753 - val_accuracy: 0.6740 - val_loss: 0.9702\n",
      "Epoch 10/50\n",
      "\u001b[1m70/70\u001b[0m \u001b[32m━━━━━━━━━━━━━━━━━━━━\u001b[0m\u001b[37m\u001b[0m \u001b[1m8s\u001b[0m 117ms/step - accuracy: 0.6699 - loss: 0.9963 - val_accuracy: 0.6740 - val_loss: 0.9109\n",
      "Epoch 11/50\n",
      "\u001b[1m70/70\u001b[0m \u001b[32m━━━━━━━━━━━━━━━━━━━━\u001b[0m\u001b[37m\u001b[0m \u001b[1m10s\u001b[0m 117ms/step - accuracy: 0.6672 - loss: 0.9459 - val_accuracy: 0.6740 - val_loss: 0.8675\n",
      "Epoch 12/50\n",
      "\u001b[1m70/70\u001b[0m \u001b[32m━━━━━━━━━━━━━━━━━━━━\u001b[0m\u001b[37m\u001b[0m \u001b[1m10s\u001b[0m 117ms/step - accuracy: 0.6606 - loss: 0.9202 - val_accuracy: 0.6740 - val_loss: 0.8352\n",
      "Epoch 13/50\n",
      "\u001b[1m70/70\u001b[0m \u001b[32m━━━━━━━━━━━━━━━━━━━━\u001b[0m\u001b[37m\u001b[0m \u001b[1m8s\u001b[0m 118ms/step - accuracy: 0.6580 - loss: 0.8809 - val_accuracy: 0.6740 - val_loss: 0.8108\n",
      "Epoch 14/50\n",
      "\u001b[1m70/70\u001b[0m \u001b[32m━━━━━━━━━━━━━━━━━━━━\u001b[0m\u001b[37m\u001b[0m \u001b[1m8s\u001b[0m 118ms/step - accuracy: 0.6506 - loss: 0.8745 - val_accuracy: 0.6740 - val_loss: 0.7922\n",
      "Epoch 15/50\n",
      "\u001b[1m70/70\u001b[0m \u001b[32m━━━━━━━━━━━━━━━━━━━━\u001b[0m\u001b[37m\u001b[0m \u001b[1m8s\u001b[0m 118ms/step - accuracy: 0.6517 - loss: 0.8474 - val_accuracy: 0.6740 - val_loss: 0.7783\n",
      "Epoch 16/50\n",
      "\u001b[1m70/70\u001b[0m \u001b[32m━━━━━━━━━━━━━━━━━━━━\u001b[0m\u001b[37m\u001b[0m \u001b[1m10s\u001b[0m 119ms/step - accuracy: 0.6629 - loss: 0.8392 - val_accuracy: 0.6740 - val_loss: 0.7669\n",
      "Epoch 17/50\n",
      "\u001b[1m70/70\u001b[0m \u001b[32m━━━━━━━━━━━━━━━━━━━━\u001b[0m\u001b[37m\u001b[0m \u001b[1m10s\u001b[0m 118ms/step - accuracy: 0.6619 - loss: 0.8269 - val_accuracy: 0.6740 - val_loss: 0.7580\n",
      "Epoch 18/50\n",
      "\u001b[1m70/70\u001b[0m \u001b[32m━━━━━━━━━━━━━━━━━━━━\u001b[0m\u001b[37m\u001b[0m \u001b[1m8s\u001b[0m 117ms/step - accuracy: 0.6646 - loss: 0.8229 - val_accuracy: 0.6740 - val_loss: 0.7509\n",
      "Epoch 19/50\n",
      "\u001b[1m70/70\u001b[0m \u001b[32m━━━━━━━━━━━━━━━━━━━━\u001b[0m\u001b[37m\u001b[0m \u001b[1m10s\u001b[0m 118ms/step - accuracy: 0.6573 - loss: 0.8200 - val_accuracy: 0.6740 - val_loss: 0.7454\n",
      "Epoch 20/50\n",
      "\u001b[1m70/70\u001b[0m \u001b[32m━━━━━━━━━━━━━━━━━━━━\u001b[0m\u001b[37m\u001b[0m \u001b[1m8s\u001b[0m 118ms/step - accuracy: 0.6523 - loss: 0.8223 - val_accuracy: 0.6740 - val_loss: 0.7403\n",
      "Epoch 21/50\n",
      "\u001b[1m70/70\u001b[0m \u001b[32m━━━━━━━━━━━━━━━━━━━━\u001b[0m\u001b[37m\u001b[0m \u001b[1m10s\u001b[0m 117ms/step - accuracy: 0.6579 - loss: 0.8299 - val_accuracy: 0.6740 - val_loss: 0.7365\n",
      "Epoch 22/50\n",
      "\u001b[1m70/70\u001b[0m \u001b[32m━━━━━━━━━━━━━━━━━━━━\u001b[0m\u001b[37m\u001b[0m \u001b[1m8s\u001b[0m 118ms/step - accuracy: 0.6481 - loss: 0.8158 - val_accuracy: 0.6740 - val_loss: 0.7331\n",
      "Epoch 23/50\n",
      "\u001b[1m70/70\u001b[0m \u001b[32m━━━━━━━━━━━━━━━━━━━━\u001b[0m\u001b[37m\u001b[0m \u001b[1m10s\u001b[0m 118ms/step - accuracy: 0.6709 - loss: 0.7988 - val_accuracy: 0.6740 - val_loss: 0.7303\n",
      "Epoch 24/50\n",
      "\u001b[1m70/70\u001b[0m \u001b[32m━━━━━━━━━━━━━━━━━━━━\u001b[0m\u001b[37m\u001b[0m \u001b[1m8s\u001b[0m 118ms/step - accuracy: 0.6554 - loss: 0.8172 - val_accuracy: 0.6740 - val_loss: 0.7285\n",
      "Epoch 25/50\n",
      "\u001b[1m70/70\u001b[0m \u001b[32m━━━━━━━━━━━━━━━━━━━━\u001b[0m\u001b[37m\u001b[0m \u001b[1m10s\u001b[0m 119ms/step - accuracy: 0.6559 - loss: 0.8238 - val_accuracy: 0.6740 - val_loss: 0.7266\n",
      "Epoch 26/50\n",
      "\u001b[1m70/70\u001b[0m \u001b[32m━━━━━━━━━━━━━━━━━━━━\u001b[0m\u001b[37m\u001b[0m \u001b[1m8s\u001b[0m 118ms/step - accuracy: 0.6616 - loss: 0.7905 - val_accuracy: 0.6740 - val_loss: 0.7249\n",
      "Epoch 27/50\n",
      "\u001b[1m70/70\u001b[0m \u001b[32m━━━━━━━━━━━━━━━━━━━━\u001b[0m\u001b[37m\u001b[0m \u001b[1m10s\u001b[0m 118ms/step - accuracy: 0.6485 - loss: 0.8070 - val_accuracy: 0.6740 - val_loss: 0.7229\n",
      "Epoch 28/50\n",
      "\u001b[1m70/70\u001b[0m \u001b[32m━━━━━━━━━━━━━━━━━━━━\u001b[0m\u001b[37m\u001b[0m \u001b[1m10s\u001b[0m 117ms/step - accuracy: 0.6626 - loss: 0.8013 - val_accuracy: 0.6740 - val_loss: 0.7215\n",
      "Epoch 29/50\n",
      "\u001b[1m70/70\u001b[0m \u001b[32m━━━━━━━━━━━━━━━━━━━━\u001b[0m\u001b[37m\u001b[0m \u001b[1m10s\u001b[0m 117ms/step - accuracy: 0.6715 - loss: 0.7749 - val_accuracy: 0.6740 - val_loss: 0.7202\n",
      "Epoch 30/50\n",
      "\u001b[1m70/70\u001b[0m \u001b[32m━━━━━━━━━━━━━━━━━━━━\u001b[0m\u001b[37m\u001b[0m \u001b[1m8s\u001b[0m 118ms/step - accuracy: 0.6593 - loss: 0.7819 - val_accuracy: 0.6740 - val_loss: 0.7195\n",
      "Epoch 31/50\n",
      "\u001b[1m70/70\u001b[0m \u001b[32m━━━━━━━━━━━━━━━━━━━━\u001b[0m\u001b[37m\u001b[0m \u001b[1m8s\u001b[0m 118ms/step - accuracy: 0.6637 - loss: 0.7901 - val_accuracy: 0.6740 - val_loss: 0.7185\n",
      "Epoch 32/50\n",
      "\u001b[1m70/70\u001b[0m \u001b[32m━━━━━━━━━━━━━━━━━━━━\u001b[0m\u001b[37m\u001b[0m \u001b[1m8s\u001b[0m 118ms/step - accuracy: 0.6514 - loss: 0.7991 - val_accuracy: 0.6740 - val_loss: 0.7174\n",
      "Epoch 33/50\n",
      "\u001b[1m70/70\u001b[0m \u001b[32m━━━━━━━━━━━━━━━━━━━━\u001b[0m\u001b[37m\u001b[0m \u001b[1m8s\u001b[0m 118ms/step - accuracy: 0.6576 - loss: 0.7853 - val_accuracy: 0.6740 - val_loss: 0.7164\n",
      "Epoch 34/50\n",
      "\u001b[1m70/70\u001b[0m \u001b[32m━━━━━━━━━━━━━━━━━━━━\u001b[0m\u001b[37m\u001b[0m \u001b[1m10s\u001b[0m 117ms/step - accuracy: 0.6662 - loss: 0.7875 - val_accuracy: 0.6740 - val_loss: 0.7158\n",
      "Epoch 35/50\n",
      "\u001b[1m70/70\u001b[0m \u001b[32m━━━━━━━━━━━━━━━━━━━━\u001b[0m\u001b[37m\u001b[0m \u001b[1m10s\u001b[0m 118ms/step - accuracy: 0.6541 - loss: 0.7915 - val_accuracy: 0.6740 - val_loss: 0.7155\n",
      "Epoch 36/50\n",
      "\u001b[1m70/70\u001b[0m \u001b[32m━━━━━━━━━━━━━━━━━━━━\u001b[0m\u001b[37m\u001b[0m \u001b[1m8s\u001b[0m 117ms/step - accuracy: 0.6544 - loss: 0.7848 - val_accuracy: 0.6740 - val_loss: 0.7147\n",
      "Epoch 37/50\n",
      "\u001b[1m70/70\u001b[0m \u001b[32m━━━━━━━━━━━━━━━━━━━━\u001b[0m\u001b[37m\u001b[0m \u001b[1m10s\u001b[0m 117ms/step - accuracy: 0.6687 - loss: 0.7721 - val_accuracy: 0.6740 - val_loss: 0.7143\n",
      "Epoch 38/50\n",
      "\u001b[1m70/70\u001b[0m \u001b[32m━━━━━━━━━━━━━━━━━━━━\u001b[0m\u001b[37m\u001b[0m \u001b[1m10s\u001b[0m 118ms/step - accuracy: 0.6730 - loss: 0.7606 - val_accuracy: 0.6740 - val_loss: 0.7140\n",
      "Epoch 39/50\n",
      "\u001b[1m70/70\u001b[0m \u001b[32m━━━━━━━━━━━━━━━━━━━━\u001b[0m\u001b[37m\u001b[0m \u001b[1m10s\u001b[0m 118ms/step - accuracy: 0.6714 - loss: 0.7760 - val_accuracy: 0.6740 - val_loss: 0.7137\n",
      "Epoch 40/50\n",
      "\u001b[1m70/70\u001b[0m \u001b[32m━━━━━━━━━━━━━━━━━━━━\u001b[0m\u001b[37m\u001b[0m \u001b[1m8s\u001b[0m 117ms/step - accuracy: 0.6619 - loss: 0.7798 - val_accuracy: 0.6740 - val_loss: 0.7133\n",
      "Epoch 41/50\n",
      "\u001b[1m70/70\u001b[0m \u001b[32m━━━━━━━━━━━━━━━━━━━━\u001b[0m\u001b[37m\u001b[0m \u001b[1m8s\u001b[0m 118ms/step - accuracy: 0.6502 - loss: 0.7857 - val_accuracy: 0.6740 - val_loss: 0.7127\n",
      "Epoch 42/50\n",
      "\u001b[1m70/70\u001b[0m \u001b[32m━━━━━━━━━━━━━━━━━━━━\u001b[0m\u001b[37m\u001b[0m \u001b[1m10s\u001b[0m 118ms/step - accuracy: 0.6491 - loss: 0.8035 - val_accuracy: 0.6740 - val_loss: 0.7121\n",
      "Epoch 43/50\n",
      "\u001b[1m70/70\u001b[0m \u001b[32m━━━━━━━━━━━━━━━━━━━━\u001b[0m\u001b[37m\u001b[0m \u001b[1m10s\u001b[0m 117ms/step - accuracy: 0.6597 - loss: 0.7861 - val_accuracy: 0.6740 - val_loss: 0.7118\n",
      "Epoch 44/50\n",
      "\u001b[1m70/70\u001b[0m \u001b[32m━━━━━━━━━━━━━━━━━━━━\u001b[0m\u001b[37m\u001b[0m \u001b[1m8s\u001b[0m 117ms/step - accuracy: 0.6573 - loss: 0.7870 - val_accuracy: 0.6740 - val_loss: 0.7115\n",
      "Epoch 45/50\n",
      "\u001b[1m70/70\u001b[0m \u001b[32m━━━━━━━━━━━━━━━━━━━━\u001b[0m\u001b[37m\u001b[0m \u001b[1m8s\u001b[0m 118ms/step - accuracy: 0.6561 - loss: 0.7737 - val_accuracy: 0.6740 - val_loss: 0.7113\n",
      "Epoch 46/50\n",
      "\u001b[1m70/70\u001b[0m \u001b[32m━━━━━━━━━━━━━━━━━━━━\u001b[0m\u001b[37m\u001b[0m \u001b[1m10s\u001b[0m 117ms/step - accuracy: 0.6588 - loss: 0.7668 - val_accuracy: 0.6740 - val_loss: 0.7108\n",
      "Epoch 47/50\n",
      "\u001b[1m70/70\u001b[0m \u001b[32m━━━━━━━━━━━━━━━━━━━━\u001b[0m\u001b[37m\u001b[0m \u001b[1m10s\u001b[0m 117ms/step - accuracy: 0.6525 - loss: 0.7878 - val_accuracy: 0.6740 - val_loss: 0.7106\n",
      "Epoch 48/50\n",
      "\u001b[1m70/70\u001b[0m \u001b[32m━━━━━━━━━━━━━━━━━━━━\u001b[0m\u001b[37m\u001b[0m \u001b[1m10s\u001b[0m 119ms/step - accuracy: 0.6484 - loss: 0.7679 - val_accuracy: 0.6740 - val_loss: 0.7103\n",
      "Epoch 49/50\n",
      "\u001b[1m70/70\u001b[0m \u001b[32m━━━━━━━━━━━━━━━━━━━━\u001b[0m\u001b[37m\u001b[0m \u001b[1m8s\u001b[0m 118ms/step - accuracy: 0.6685 - loss: 0.7685 - val_accuracy: 0.6740 - val_loss: 0.7104\n",
      "Epoch 50/50\n",
      "\u001b[1m70/70\u001b[0m \u001b[32m━━━━━━━━━━━━━━━━━━━━\u001b[0m\u001b[37m\u001b[0m \u001b[1m8s\u001b[0m 118ms/step - accuracy: 0.6529 - loss: 0.7670 - val_accuracy: 0.6740 - val_loss: 0.7101\n"
     ]
    },
    {
     "data": {
      "image/png": "[encoded data removed]",
      "text/plain": [
       "<Figure size 1200x400 with 2 Axes>"
      ]
     },
     "metadata": {},
     "output_type": "display_data"
    },
    {
     "name": "stdout",
     "output_type": "stream",
     "text": [
      "\u001b[1m30/30\u001b[0m \u001b[32m━━━━━━━━━━━━━━━━━━━━\u001b[0m\u001b[37m\u001b[0m \u001b[1m4s\u001b[0m 70ms/step - accuracy: 0.6437 - loss: 0.7640\n",
      "Test Accuracy: 0.6593\n",
      "\u001b[1m30/30\u001b[0m \u001b[32m━━━━━━━━━━━━━━━━━━━━\u001b[0m\u001b[37m\u001b[0m \u001b[1m2s\u001b[0m 45ms/step\n",
      "              precision    recall  f1-score   support\n",
      "\n",
      "           1       0.00      0.00      0.00       305\n",
      "           2       0.00      0.00      0.00         9\n",
      "           3       0.66      1.00      0.79       627\n",
      "           4       0.00      0.00      0.00         1\n",
      "           6       0.00      0.00      0.00         8\n",
      "           7       0.00      0.00      0.00         1\n",
      "\n",
      "    accuracy                           0.66       951\n",
      "   macro avg       0.11      0.17      0.13       951\n",
      "weighted avg       0.43      0.66      0.52       951\n",
      "\n",
      "Weighted F1 Score: 0.5239\n"
     ]
    },
    {
     "name": "stderr",
     "output_type": "stream",
     "text": [
      "/usr/local/lib/python3.10/dist-packages/sklearn/metrics/_classification.py:1531: UndefinedMetricWarning: Precision is ill-defined and being set to 0.0 in labels with no predicted samples. Use `zero_division` parameter to control this behavior.\n",
      "  _warn_prf(average, modifier, f\"{metric.capitalize()} is\", len(result))\n",
      "/usr/local/lib/python3.10/dist-packages/sklearn/metrics/_classification.py:1531: UndefinedMetricWarning: Precision is ill-defined and being set to 0.0 in labels with no predicted samples. Use `zero_division` parameter to control this behavior.\n",
      "  _warn_prf(average, modifier, f\"{metric.capitalize()} is\", len(result))\n",
      "/usr/local/lib/python3.10/dist-packages/sklearn/metrics/_classification.py:1531: UndefinedMetricWarning: Precision is ill-defined and being set to 0.0 in labels with no predicted samples. Use `zero_division` parameter to control this behavior.\n",
      "  _warn_prf(average, modifier, f\"{metric.capitalize()} is\", len(result))\n"
     ]
    }
   ],
   "source": [
    "# Train and evaluate the transformer model\n",
    "transformer_model = train_and_evaluate_transformer(X_train, y_train, X_val, y_val, X_test, y_test)"
   ]
  }
 ],
 "metadata": {
  "colab": {
   "provenance": []
  },
  "kernelspec": {
   "display_name": "Python 3 (ipykernel)",
   "language": "python",
   "name": "python3"
  },
  "language_info": {
   "codemirror_mode": {
    "name": "ipython",
    "version": 3
   },
   "file_extension": ".py",
   "mimetype": "text/x-python",
   "name": "python",
   "nbconvert_exporter": "python",
   "pygments_lexer": "ipython3",
   "version": "3.12.4"
  }
 },
 "nbformat": 4,
 "nbformat_minor": 4
}
